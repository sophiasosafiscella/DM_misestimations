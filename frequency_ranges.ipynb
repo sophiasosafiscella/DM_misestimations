{
 "cells": [
  {
   "cell_type": "code",
   "execution_count": 1,
   "metadata": {
    "collapsed": true,
    "ExecuteTime": {
     "end_time": "2023-07-20T03:43:32.300585072Z",
     "start_time": "2023-07-20T03:43:17.905440837Z"
    }
   },
   "outputs": [
    {
     "name": "stderr",
     "output_type": "stream",
     "text": [
      "No ephemeris provided to TOAs object or compute_TDBs. Using DE421\n"
     ]
    },
    {
     "name": "stdout",
     "output_type": "stream",
     "text": [
      "Number of TOAs:  12798\n",
      "Number of commands:  2\n",
      "Number of observatories: 1 ['gbt']\n",
      "MJD span:  53291.909 to 57922.112\n",
      "Date span: 2004-10-13 21:49:03.433795900 to 2017-06-18 02:41:53.633728240\n",
      "gbt TOAs (12798):\n",
      "  Min freq:      725.323 MHz\n",
      "  Max freq:      1882.812 MHz\n",
      "  Min error:     0.792 us\n",
      "  Max error:     32.9 us\n",
      "  Median error:  1.8 us\n",
      "\n"
     ]
    }
   ],
   "source": [
    "from pint.toa import get_TOAs\n",
    "PSR_name = \"J1643-1224\"\n",
    "timfile = \"./NANOGrav_12yv4/narrowband/tim/\" + PSR_name + \"_NANOGrav_12yv4.tim\"\n",
    "\n",
    "toas = get_TOAs(timfile)"
   ]
  },
  {
   "cell_type": "code",
   "execution_count": 10,
   "outputs": [],
   "source": [
    "import numpy as np\n",
    "\n",
    "backends = np.array([toas.table[\"flags\"][obs][\"f\"] for obs in range(len(toas.table[\"flags\"]))])\n",
    "\n",
    "Rcvr_800_GASP_toas = toas[np.isin(backends, ['Rcvr_800_GASP'])]\n",
    "Rcvr1_2_GASP_toas = toas[np.isin(backends, ['Rcvr1_2_GASP'])]\n",
    "Rcvr_800_GUPPI_toas = toas[np.isin(backends, ['Rcvr_800_GUPPI'])]\n",
    "Rcvr1_2_GUPPI_toas = toas[np.isin(backends, ['Rcvr1_2_GUPPI'])]\n"
   ],
   "metadata": {
    "collapsed": false,
    "ExecuteTime": {
     "end_time": "2023-07-20T03:54:28.720982856Z",
     "start_time": "2023-07-20T03:54:28.700788645Z"
    }
   }
  },
  {
   "cell_type": "code",
   "execution_count": 14,
   "outputs": [
    {
     "name": "stdout",
     "output_type": "stream",
     "text": [
      "Number of TOAs:  6114\n",
      "Number of commands:  2\n",
      "Number of observatories: 1 ['gbt']\n",
      "MJD span:  55275.261 to 57921.112\n",
      "Date span: 2010-03-20 06:15:56.716311059 to 2017-06-17 02:41:47.979294870\n",
      "gbt TOAs (6114):\n",
      "  Min freq:      1156.189 MHz\n",
      "  Max freq:      1882.812 MHz\n",
      "  Min error:     0.792 us\n",
      "  Max error:     32.9 us\n",
      "  Median error:  1.6 us\n",
      "\n"
     ]
    }
   ],
   "source": [
    "print(Rcvr1_2_GUPPI_toas.get_summary())"
   ],
   "metadata": {
    "collapsed": false,
    "ExecuteTime": {
     "end_time": "2023-07-20T04:02:01.270847612Z",
     "start_time": "2023-07-20T04:02:00.956637699Z"
    }
   }
  },
  {
   "cell_type": "code",
   "execution_count": 2,
   "outputs": [
    {
     "name": "stderr",
     "output_type": "stream",
     "text": [
      "No ephemeris provided to TOAs object or compute_TDBs. Using DE421\n"
     ]
    },
    {
     "name": "stdout",
     "output_type": "stream",
     "text": [
      "Number of TOAs:  1206\n",
      "Number of commands:  2\n",
      "Number of observatories: 1 ['gbt']\n",
      "MJD span:  53291.909 to 55578.476\n",
      "Date span: 2004-10-13 21:49:03.433795900 to 2011-01-17 11:25:08.509050290\n",
      "gbt TOAs (1206):\n",
      "  Min freq:      792.000 MHz\n",
      "  Max freq:      1432.000 MHz\n",
      "  Min error:     1.13 us\n",
      "  Max error:     13.4 us\n",
      "  Median error:  2.35 us\n",
      "\n"
     ]
    }
   ],
   "source": [
    "from pint.toa import get_TOAs\n",
    "import numpy as np\n",
    "timfile = \"./NANOGrav_12yv4/narrowband/tim/J1643-1224_NANOGrav_12yv4.tim\"\n",
    "\n",
    "toas = get_TOAs(timfile)\n",
    "backends = np.array([toas.table[\"flags\"][obs][\"be\"] for obs in range(len(toas.table[\"flags\"]))])\n",
    "\n",
    "GASP_toas = toas[np.isin(backends, ['GASP'])]\n",
    "print(GASP_toas.get_summary())"
   ],
   "metadata": {
    "collapsed": false,
    "ExecuteTime": {
     "end_time": "2023-07-24T14:12:41.579402748Z",
     "start_time": "2023-07-24T14:12:26.484841811Z"
    }
   }
  },
  {
   "cell_type": "code",
   "execution_count": null,
   "outputs": [],
   "source": [],
   "metadata": {
    "collapsed": false
   }
  }
 ],
 "metadata": {
  "kernelspec": {
   "display_name": "Python 3",
   "language": "python",
   "name": "python3"
  },
  "language_info": {
   "codemirror_mode": {
    "name": "ipython",
    "version": 2
   },
   "file_extension": ".py",
   "mimetype": "text/x-python",
   "name": "python",
   "nbconvert_exporter": "python",
   "pygments_lexer": "ipython2",
   "version": "2.7.6"
  }
 },
 "nbformat": 4,
 "nbformat_minor": 0
}
